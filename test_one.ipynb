{
 "cells": [
  {
   "cell_type": "code",
   "execution_count": 7,
   "metadata": {},
   "outputs": [
    {
     "name": "stdout",
     "output_type": "stream",
     "text": [
      "[PhysicalDevice(name='/physical_device:GPU:0', device_type='GPU')]\n"
     ]
    }
   ],
   "source": [
    "import tensorflow as tf\n",
    "\n",
    "gpu = tf.config.experimental.list_physical_devices(\"GPU\")\n",
    "print(gpu)"
   ]
  },
  {
   "cell_type": "markdown",
   "metadata": {},
   "source": [
    "# Model 1: CIFAR10"
   ]
  },
  {
   "cell_type": "code",
   "execution_count": 8,
   "metadata": {},
   "outputs": [],
   "source": [
    "from tensorflow import keras\n",
    "from tensorflow.keras.layers import Flatten, Dense\n",
    "import numpy as np\n",
    "import matplotlib.pyplot as plt\n",
    "\n",
    "(x_train, y_train), (x_test, y_test) = keras.datasets.cifar10.load_data()\n",
    "\n",
    "x_train = x_train / 255.0\n",
    "x_test = x_test / 255.0\n",
    "\n",
    "y_train_ohc = tf.keras.utils.to_categorical(y_train, num_classes=10, dtype='float32')\n",
    "y_test_ohc = tf.keras.utils.to_categorical(y_test, num_classes=10, dtype='float32')\n",
    "\n",
    "def get_model_1():\n",
    "    model = tf.keras.models.Sequential([\n",
    "        Flatten(input_shape=(32, 32, 3)),\n",
    "        Dense(3000, activation='relu'),\n",
    "        Dense(1000, activation='relu'),\n",
    "        Dense(10, activation='sigmoid')\n",
    "    ])\n",
    "    model.compile(optimizer=\"adam\", \n",
    "                  loss=\"categorical_crossentropy\", \n",
    "                  metrics=[\"accuracy\"])    \n",
    "    return model\n"
   ]
  },
  {
   "cell_type": "code",
   "execution_count": 13,
   "metadata": {},
   "outputs": [],
   "source": [
    "# CPU vs GPU testing\n",
    "def test_cpu_1(epochs=5):\n",
    "    with tf.device(\"/CPU:0\"):\n",
    "        model_cpu = get_model_1()\n",
    "        model_cpu.fit(x_train, y_train_ohc, epochs=epochs)\n",
    "\n",
    "def test_gpu_1(epochs=5):\n",
    "    with tf.device(\"/GPU:0\"):\n",
    "        model_gpu = get_model_1()\n",
    "        model_gpu.fit(x_train, y_train_ohc, epochs=epochs)\n"
   ]
  },
  {
   "cell_type": "code",
   "execution_count": 16,
   "metadata": {},
   "outputs": [
    {
     "name": "stdout",
     "output_type": "stream",
     "text": [
      "1563/1563 [==============================] - 58s 37ms/step - loss: 1.9099 - accuracy: 0.3271\n",
      "1563/1563 [==============================] - 58s 37ms/step - loss: 1.8946 - accuracy: 0.3223\n",
      "1563/1563 [==============================] - 58s 37ms/step - loss: 1.8753 - accuracy: 0.3276\n",
      "1563/1563 [==============================] - 59s 37ms/step - loss: 1.8979 - accuracy: 0.3259\n",
      "1563/1563 [==============================] - 58s 37ms/step - loss: 1.8862 - accuracy: 0.3290\n",
      "1563/1563 [==============================] - 58s 37ms/step - loss: 1.8869 - accuracy: 0.3246\n",
      "1563/1563 [==============================] - 58s 37ms/step - loss: 1.8874 - accuracy: 0.3268\n",
      "1563/1563 [==============================] - 58s 37ms/step - loss: 1.8880 - accuracy: 0.3275\n",
      "58.7 s ± 151 ms per loop (mean ± std. dev. of 7 runs, 1 loop each)\n"
     ]
    }
   ],
   "source": [
    "# %timeit test_cpu(1)\n",
    "%timeit -n1 -r1 test_cpu(epochs=1)\n"
   ]
  },
  {
   "cell_type": "code",
   "execution_count": 20,
   "metadata": {},
   "outputs": [
    {
     "name": "stdout",
     "output_type": "stream",
     "text": [
      "Epoch 1/10\n",
      "1563/1563 [==============================] - 6s 4ms/step - loss: 1.8880 - accuracy: 0.3274\n",
      "Epoch 2/10\n",
      "1563/1563 [==============================] - 6s 4ms/step - loss: 1.6568 - accuracy: 0.4054\n",
      "Epoch 3/10\n",
      "1563/1563 [==============================] - 6s 4ms/step - loss: 1.5733 - accuracy: 0.4344\n",
      "Epoch 4/10\n",
      "1563/1563 [==============================] - 6s 4ms/step - loss: 1.5290 - accuracy: 0.4515\n",
      "Epoch 5/10\n",
      "1563/1563 [==============================] - 6s 4ms/step - loss: 1.4912 - accuracy: 0.4657\n",
      "Epoch 6/10\n",
      "1563/1563 [==============================] - 6s 4ms/step - loss: 1.4610 - accuracy: 0.4764\n",
      "Epoch 7/10\n",
      "1563/1563 [==============================] - 6s 4ms/step - loss: 1.4341 - accuracy: 0.4856\n",
      "Epoch 8/10\n",
      "1563/1563 [==============================] - 6s 4ms/step - loss: 1.4085 - accuracy: 0.4942\n",
      "Epoch 9/10\n",
      "1563/1563 [==============================] - 6s 4ms/step - loss: 1.3954 - accuracy: 0.5001\n",
      "Epoch 10/10\n",
      "1563/1563 [==============================] - 5s 3ms/step - loss: 1.3749 - accuracy: 0.5065\n",
      "1min ± 0 ns per loop (mean ± std. dev. of 1 run, 1 loop each)\n"
     ]
    }
   ],
   "source": [
    "%timeit -n1 -r1 test_gpu(epochs=10)"
   ]
  },
  {
   "cell_type": "markdown",
   "metadata": {},
   "source": [
    "# Model 2: Fashion MNIST"
   ]
  },
  {
   "cell_type": "code",
   "execution_count": 24,
   "metadata": {},
   "outputs": [],
   "source": [
    "fashion_mnist = tf.keras.datasets.fashion_mnist\n",
    "(train_images, train_labels), (test_images, test_labels) = fashion_mnist.load_data()\n",
    "train_images_scaled = train_images / 255.0\n",
    "test_images_scaled = test_images / 255.0\n",
    "\n",
    "def get_model_2(hidden_layers=1):\n",
    "    # Flatten layer for input\n",
    "    layers = [keras.layers.Flatten(input_shape=(28, 28))]\n",
    "    # hidden layers\n",
    "    for i in range(hidden_layers):\n",
    "        layers.append(keras.layers.Dense(500, activation='relu'),)\n",
    "    # output layer    \n",
    "    layers.append(keras.layers.Dense(10, activation='sigmoid'))\n",
    "    model = keras.Sequential(layers)\n",
    "    model.compile(optimizer='adam',\n",
    "                  loss='sparse_categorical_crossentropy',\n",
    "                  metrics=['accuracy'])\n",
    "    return model\n",
    "\n",
    "def test_cpu_2():\n",
    "    with tf.device('/CPU:0'):\n",
    "        cpu_model = get_model_2(hidden_layers=5)\n",
    "        cpu_model.fit(train_images_scaled, train_labels, epochs=5)\n",
    "\n",
    "def test_gpu_2():\n",
    "    with tf.device('/GPU:0'):\n",
    "        cpu_model = get_model_2(hidden_layers=5)\n",
    "        cpu_model.fit(train_images_scaled, train_labels, epochs=5)"
   ]
  },
  {
   "cell_type": "code",
   "execution_count": 25,
   "metadata": {},
   "outputs": [
    {
     "name": "stdout",
     "output_type": "stream",
     "text": [
      "Epoch 1/5\n",
      "1875/1875 [==============================] - 10s 5ms/step - loss: 0.5200 - accuracy: 0.8133\n",
      "Epoch 2/5\n",
      "1875/1875 [==============================] - 10s 5ms/step - loss: 0.3909 - accuracy: 0.8606\n",
      "Epoch 3/5\n",
      "1875/1875 [==============================] - 10s 5ms/step - loss: 0.3521 - accuracy: 0.8721\n",
      "Epoch 4/5\n",
      "1875/1875 [==============================] - 10s 5ms/step - loss: 0.3267 - accuracy: 0.8807\n",
      "Epoch 5/5\n",
      "1875/1875 [==============================] - 10s 5ms/step - loss: 0.3084 - accuracy: 0.8876\n",
      "51.2 s ± 0 ns per loop (mean ± std. dev. of 1 run, 1 loop each)\n"
     ]
    }
   ],
   "source": [
    "%timeit -n1 -r1 test_cpu_2()"
   ]
  },
  {
   "cell_type": "code",
   "execution_count": 26,
   "metadata": {},
   "outputs": [
    {
     "name": "stdout",
     "output_type": "stream",
     "text": [
      "Epoch 1/5\n",
      "1875/1875 [==============================] - 9s 5ms/step - loss: 0.5161 - accuracy: 0.8138\n",
      "Epoch 2/5\n",
      "1875/1875 [==============================] - 8s 4ms/step - loss: 0.3896 - accuracy: 0.8600\n",
      "Epoch 3/5\n",
      "1875/1875 [==============================] - 8s 4ms/step - loss: 0.3544 - accuracy: 0.8721\n",
      "Epoch 4/5\n",
      "1875/1875 [==============================] - 8s 4ms/step - loss: 0.3269 - accuracy: 0.8819\n",
      "Epoch 5/5\n",
      "1875/1875 [==============================] - 8s 4ms/step - loss: 0.3086 - accuracy: 0.8884\n",
      "40.6 s ± 0 ns per loop (mean ± std. dev. of 1 run, 1 loop each)\n"
     ]
    }
   ],
   "source": [
    "%timeit -n1 -r1 test_gpu_2()"
   ]
  }
 ],
 "metadata": {
  "interpreter": {
   "hash": "94de176f663b406fce38c2c845a8044efb8ba8af72fad63a12b8558563a2fae9"
  },
  "kernelspec": {
   "display_name": "Python 3.9.7 ('mlwin')",
   "language": "python",
   "name": "python3"
  },
  "language_info": {
   "codemirror_mode": {
    "name": "ipython",
    "version": 3
   },
   "file_extension": ".py",
   "mimetype": "text/x-python",
   "name": "python",
   "nbconvert_exporter": "python",
   "pygments_lexer": "ipython3",
   "version": "3.9.7"
  },
  "orig_nbformat": 4
 },
 "nbformat": 4,
 "nbformat_minor": 2
}
